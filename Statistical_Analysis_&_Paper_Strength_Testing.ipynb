{
  "nbformat": 4,
  "nbformat_minor": 0,
  "metadata": {
    "colab": {
      "provenance": []
    },
    "kernelspec": {
      "name": "python3",
      "display_name": "Python 3"
    },
    "language_info": {
      "name": "python"
    }
  },
  "cells": [
    {
      "cell_type": "code",
      "execution_count": null,
      "metadata": {
        "id": "59NhpYLRg0Kz"
      },
      "outputs": [],
      "source": [
        "import pandas as pd\n",
        "import numpy as np\n",
        "from scipy import stats\n",
        "import matplotlib.pyplot as plt\n",
        "import seaborn as sns"
      ]
    },
    {
      "cell_type": "code",
      "source": [
        "np.random.seed(42)\n",
        "data = {\n",
        "    'Batch_ID': np.repeat([1, 2], 30),\n",
        "    'Process': ['A']*30 + ['B']*30,\n",
        "    'Tensile_Strength': np.concatenate([np.random.normal(50, 5, 30), np.random.normal(53, 5, 30)]),\n",
        "    'Tear_Strength': np.concatenate([np.random.normal(10, 2, 30), np.random.normal(11, 2, 30)]),\n",
        "    'Burst_Strength': np.concatenate([np.random.normal(100, 10, 30), np.random.normal(102, 10, 30)])\n",
        "}\n",
        "\n",
        "df = pd.DataFrame(data)\n",
        "\n",
        "print(\"Sample Data (first 5 rows):\")\n",
        "print(df.head())\n"
      ],
      "metadata": {
        "colab": {
          "base_uri": "https://localhost:8080/"
        },
        "id": "ttiFmRgeg7HX",
        "outputId": "278afab9-9470-4466-d094-42d87f50aef4"
      },
      "execution_count": null,
      "outputs": [
        {
          "output_type": "stream",
          "name": "stdout",
          "text": [
            "Sample Data (first 5 rows):\n",
            "   Batch_ID Process  Tensile_Strength  Tear_Strength  Burst_Strength\n",
            "0         1       A         52.483571       9.041652      107.910319\n",
            "1         1       A         49.308678       9.628682       90.906125\n",
            "2         1       A         53.238443       7.787330      114.027943\n",
            "3         1       A         57.615149       7.607587       85.981489\n",
            "4         1       A         48.829233      11.625052      105.868571\n"
          ]
        }
      ]
    },
    {
      "cell_type": "code",
      "source": [
        "batchA = df[df['Process']=='A']['Tensile_Strength']\n",
        "batchB = df[df['Process']=='B']['Tensile_Strength']\n"
      ],
      "metadata": {
        "id": "AO7ne9-yg7KK"
      },
      "execution_count": null,
      "outputs": []
    },
    {
      "cell_type": "code",
      "source": [
        "t_stat, p_value = stats.ttest_ind(batchB, batchA, equal_var=False)  # Welch's t-test\n",
        "\n",
        "print(\"\\nHypothesis Test: Tensile Strength difference between Process B and A\")\n",
        "print(f\"t-statistic = {t_stat:.3f}, p-value = {p_value:.4f}\")\n",
        "\n",
        "if p_value < 0.05:\n",
        "    print(\"=> Reject null hypothesis: Significant difference in tensile strength\")\n",
        "else:\n",
        "    print(\"=> Fail to reject null hypothesis: No significant difference\")"
      ],
      "metadata": {
        "colab": {
          "base_uri": "https://localhost:8080/"
        },
        "id": "27MLodE6g7M1",
        "outputId": "048ea64c-57d8-4ddb-e7ea-7c0485a959e3"
      },
      "execution_count": null,
      "outputs": [
        {
          "output_type": "stream",
          "name": "stdout",
          "text": [
            "\n",
            "Hypothesis Test: Tensile Strength difference between Process B and A\n",
            "t-statistic = 2.821, p-value = 0.0065\n",
            "=> Reject null hypothesis: Significant difference in tensile strength\n"
          ]
        }
      ]
    },
    {
      "cell_type": "code",
      "source": [
        "conf_level = 0.95\n",
        "mean_A = np.mean(batchA)\n",
        "sem_A = stats.sem(batchA)  # standard error of mean\n",
        "ci_low, ci_high = stats.t.interval(conf_level, len(batchA)-1, loc=mean_A, scale=sem_A)\n",
        "\n",
        "print(f\"\\n95% Confidence Interval for Process A Tensile Strength: [{ci_low:.2f}, {ci_high:.2f}]\")"
      ],
      "metadata": {
        "colab": {
          "base_uri": "https://localhost:8080/"
        },
        "id": "oHqZhHfag7Pn",
        "outputId": "efc7a5d1-4d85-4647-f848-a746f7fd76d3"
      },
      "execution_count": null,
      "outputs": [
        {
          "output_type": "stream",
          "name": "stdout",
          "text": [
            "\n",
            "95% Confidence Interval for Process A Tensile Strength: [47.38, 50.74]\n"
          ]
        }
      ]
    },
    {
      "cell_type": "code",
      "source": [
        "summary = df.groupby('Process')[['Tensile_Strength', 'Tear_Strength', 'Burst_Strength']].agg(['mean', 'std', 'count'])\n",
        "print(\"\\nSummary statistics by Process:\")\n",
        "print(summary)\n"
      ],
      "metadata": {
        "colab": {
          "base_uri": "https://localhost:8080/"
        },
        "id": "VEY-xTjUg7SW",
        "outputId": "a1664174-98f0-487d-cf35-8aae9946a6c9"
      },
      "execution_count": null,
      "outputs": [
        {
          "output_type": "stream",
          "name": "stdout",
          "text": [
            "\n",
            "Summary statistics by Process:\n",
            "        Tensile_Strength                 Tear_Strength                  \\\n",
            "                    mean       std count          mean       std count   \n",
            "Process                                                                  \n",
            "A              49.059266  4.500032    30     10.025770  1.983966    30   \n",
            "B              52.394188  4.655511    30     10.959497  1.817644    30   \n",
            "\n",
            "        Burst_Strength                   \n",
            "                  mean        std count  \n",
            "Process                                  \n",
            "A            99.050419  10.241604    30  \n",
            "B           104.787866   9.473659    30  \n"
          ]
        }
      ]
    },
    {
      "cell_type": "code",
      "source": [
        "\n",
        "\n",
        "stat, p_var = stats.levene(batchA, batchB)\n",
        "print(f\"\\nLevene's test for equal variances (Tensile Strength): stat={stat:.3f}, p-value={p_var:.4f}\")\n",
        "\n",
        "if p_var < 0.05:\n",
        "    print(\"=> Variances are significantly different\")\n",
        "else:\n",
        "    print(\"=> No significant difference in variances\")\n"
      ],
      "metadata": {
        "colab": {
          "base_uri": "https://localhost:8080/"
        },
        "id": "kMgT4C_ig7VC",
        "outputId": "8684a3d9-ca68-4767-979a-cb60d2021cb0"
      },
      "execution_count": null,
      "outputs": [
        {
          "output_type": "stream",
          "name": "stdout",
          "text": [
            "\n",
            "Levene's test for equal variances (Tensile Strength): stat=0.245, p-value=0.6223\n",
            "=> No significant difference in variances\n"
          ]
        }
      ]
    },
    {
      "cell_type": "code",
      "source": [
        "plt.figure(figsize=(15,4))\n",
        "\n",
        "plt.subplot(1,3,1)\n",
        "sns.boxplot(x='Process', y='Tensile_Strength', data=df)\n",
        "plt.title('Tensile Strength by Process')\n"
      ],
      "metadata": {
        "colab": {
          "base_uri": "https://localhost:8080/",
          "height": 427
        },
        "id": "Eng1oTong7Xt",
        "outputId": "8d549954-b938-4789-a5cf-d04104ef3ffa"
      },
      "execution_count": null,
      "outputs": [
        {
          "output_type": "execute_result",
          "data": {
            "text/plain": [
              "Text(0.5, 1.0, 'Tensile Strength by Process')"
            ]
          },
          "metadata": {},
          "execution_count": 11
        },
        {
          "output_type": "display_data",
          "data": {
            "text/plain": [
              "<Figure size 1500x400 with 1 Axes>"
            ],
            "image/png": "[encoded data removed]"
          },
          "metadata": {}
        }
      ]
    },
    {
      "cell_type": "code",
      "source": [
        "plt.subplot(1,3,2)\n",
        "sns.boxplot(x='Process', y='Tear_Strength', data=df)\n",
        "plt.title('Tear Strength by Process')\n"
      ],
      "metadata": {
        "colab": {
          "base_uri": "https://localhost:8080/",
          "height": 489
        },
        "id": "oDu9hwb5g7aS",
        "outputId": "e1a94310-b50b-4e6d-cc5f-002268d0955c"
      },
      "execution_count": null,
      "outputs": [
        {
          "output_type": "execute_result",
          "data": {
            "text/plain": [
              "Text(0.5, 1.0, 'Tear Strength by Process')"
            ]
          },
          "metadata": {},
          "execution_count": 12
        },
        {
          "output_type": "display_data",
          "data": {
            "text/plain": [
              "<Figure size 640x480 with 1 Axes>"
            ],
            "image/png": "[encoded data removed]"
          },
          "metadata": {}
        }
      ]
    },
    {
      "cell_type": "code",
      "source": [
        "plt.subplot(1,3,3)\n",
        "sns.boxplot(x='Process', y='Burst_Strength', data=df)\n",
        "plt.title('Burst Strength by Process')\n",
        "\n",
        "plt.tight_layout()\n",
        "plt.show()\n"
      ],
      "metadata": {
        "colab": {
          "base_uri": "https://localhost:8080/",
          "height": 487
        },
        "id": "rvyVaocGg7c4",
        "outputId": "a92e3baf-2fa2-4de5-f88f-11b2988fa599"
      },
      "execution_count": null,
      "outputs": [
        {
          "output_type": "display_data",
          "data": {
            "text/plain": [
              "<Figure size 640x480 with 1 Axes>"
            ],
            "image/png": "[encoded data removed]"
          },
          "metadata": {}
        }
      ]
    },
    {
      "cell_type": "code",
      "source": [
        "tear_A = df[df['Process']=='A']['Tear_Strength']\n",
        "tear_B = df[df['Process']=='B']['Tear_Strength']\n",
        "\n",
        "t_stat_tear, p_value_tear = stats.ttest_ind(tear_B, tear_A, equal_var=False)\n",
        "print(f\"\\nHypothesis Test: Tear Strength difference between Process B and A\")\n",
        "print(f\"t-statistic = {t_stat_tear:.3f}, p-value = {p_value_tear:.4f}\")"
      ],
      "metadata": {
        "colab": {
          "base_uri": "https://localhost:8080/"
        },
        "id": "ktrj5VaWg7fs",
        "outputId": "54ec23ea-0082-43a0-f427-d08cbd9c118f"
      },
      "execution_count": null,
      "outputs": [
        {
          "output_type": "stream",
          "name": "stdout",
          "text": [
            "\n",
            "Hypothesis Test: Tear Strength difference between Process B and A\n",
            "t-statistic = 1.901, p-value = 0.0624\n"
          ]
        }
      ]
    },
    {
      "cell_type": "code",
      "source": [
        "def conf_int(data, confidence=0.95):\n",
        "    mean_val = np.mean(data)\n",
        "    sem_val = stats.sem(data)\n",
        "    ci_low, ci_high = stats.t.interval(confidence, len(data)-1, loc=mean_val, scale=sem_val)\n",
        "    return ci_low, ci_high\n",
        "\n",
        "ci_A_tear = conf_int(tear_A)\n",
        "ci_B_tear = conf_int(tear_B)\n",
        "\n",
        "print(f\"95% CI for Tear Strength Process A: [{ci_A_tear[0]:.2f}, {ci_A_tear[1]:.2f}]\")\n",
        "print(f\"95% CI for Tear Strength Process B: [{ci_B_tear[0]:.2f}, {ci_B_tear[1]:.2f}]\")\n"
      ],
      "metadata": {
        "colab": {
          "base_uri": "https://localhost:8080/"
        },
        "id": "PA56l5hvh2ke",
        "outputId": "001c91bf-e2fb-48de-b3ec-78fcffa24459"
      },
      "execution_count": null,
      "outputs": [
        {
          "output_type": "stream",
          "name": "stdout",
          "text": [
            "95% CI for Tear Strength Process A: [9.28, 10.77]\n",
            "95% CI for Tear Strength Process B: [10.28, 11.64]\n"
          ]
        }
      ]
    },
    {
      "cell_type": "code",
      "source": [
        "anova_result = stats.f_oneway(batchA, batchB)\n",
        "print(f\"\\nANOVA test for Tensile Strength between Processes:\")\n",
        "print(f\"F-statistic = {anova_result.statistic:.3f}, p-value = {anova_result.pvalue:.4f}\")"
      ],
      "metadata": {
        "colab": {
          "base_uri": "https://localhost:8080/"
        },
        "id": "3VMtHIixh2yj",
        "outputId": "efafe0d0-1eb4-4088-a52d-79790b101565"
      },
      "execution_count": null,
      "outputs": [
        {
          "output_type": "stream",
          "name": "stdout",
          "text": [
            "\n",
            "ANOVA test for Tensile Strength between Processes:\n",
            "F-statistic = 7.958, p-value = 0.0065\n"
          ]
        }
      ]
    }
  ]
}